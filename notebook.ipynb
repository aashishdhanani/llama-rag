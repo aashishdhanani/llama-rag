{
 "cells": [
  {
   "cell_type": "code",
   "execution_count": 25,
   "metadata": {},
   "outputs": [],
   "source": [
    "import os\n",
    "from dotenv import load_dotenv\n",
    "\n",
    "load_dotenv()\n",
    "\n",
    "CLAUDE_KEY = os.getenv(\"CLAUDE_KEY\")\n",
    "#MODEL = \"claude-3-7-sonnet-20250219\"\n",
    "MODEL = \"llama3.1\"\n"
   ]
  },
  {
   "cell_type": "code",
   "execution_count": 32,
   "metadata": {},
   "outputs": [
    {
     "data": {
      "text/plain": [
       "\"Here's one:\\n\\nWhat do you call a fake noodle?\\n\\nAn impasta.\""
      ]
     },
     "execution_count": 32,
     "metadata": {},
     "output_type": "execute_result"
    }
   ],
   "source": [
    "from langchain_anthropic import ChatAnthropic\n",
    "from langchain_ollama.llms import OllamaLLM\n",
    "from langchain_ollama import OllamaEmbeddings\n",
    "\n",
    "\n",
    "if MODEL.startswith(\"claude\"):\n",
    "    llm = ChatAnthropic(model=MODEL, api_key=CLAUDE_KEY)\n",
    "else:\n",
    "    llm = OllamaLLM(model=MODEL)\n",
    "    embeddings = OllamaEmbeddings(model=MODEL)\n",
    "    \n",
    "\n",
    "    \n",
    "llm.invoke(\"tell me a joke\")"
   ]
  },
  {
   "cell_type": "code",
   "execution_count": 33,
   "metadata": {},
   "outputs": [
    {
     "data": {
      "text/plain": [
       "'A man walked into a library and asked the librarian, \"Do you have any books on Pavlov\\'s dogs and Schrödinger\\'s cat?\" The librarian replied, \"It rings a bell, but I\\'m not sure if it\\'s here or not.\"'"
      ]
     },
     "execution_count": 33,
     "metadata": {},
     "output_type": "execute_result"
    }
   ],
   "source": [
    "from langchain_core.output_parsers import StrOutputParser\n",
    "\n",
    "parser = StrOutputParser()\n",
    "\n",
    "chain = llm | parser\n",
    "chain.invoke(\"tell me a joke\")"
   ]
  },
  {
   "cell_type": "code",
   "execution_count": 19,
   "metadata": {},
   "outputs": [
    {
     "data": {
      "text/plain": [
       "[Document(metadata={'producer': 'Acrobat Distiller 11.0 (Windows)', 'creator': 'PScript5.dll Version 5.2.2', 'creationdate': '2022-01-31T17:50:48-06:00', 'author': 'Weihua', 'moddate': '2022-01-31T17:50:48-06:00', 'title': 'Microsoft PowerPoint - m2-agents.ppt [Compatibility Mode]', 'source': 'data/preprocessed/intelligentagents.pdf', 'total_pages': 27, 'page': 0, 'page_label': '1'}, page_content='Intelligent Agents\\nChapter 2'),\n",
       " Document(metadata={'producer': 'Acrobat Distiller 11.0 (Windows)', 'creator': 'PScript5.dll Version 5.2.2', 'creationdate': '2022-01-31T17:50:48-06:00', 'author': 'Weihua', 'moddate': '2022-01-31T17:50:48-06:00', 'title': 'Microsoft PowerPoint - m2-agents.ppt [Compatibility Mode]', 'source': 'data/preprocessed/intelligentagents.pdf', 'total_pages': 27, 'page': 1, 'page_label': '2'}, page_content='Outline\\n• Agents and environments\\n• Rationality• PEAS (Performance measure, \\nEnvironment, Actuators, Sensors)\\n• Environment types• Agent types'),\n",
       " Document(metadata={'producer': 'Acrobat Distiller 11.0 (Windows)', 'creator': 'PScript5.dll Version 5.2.2', 'creationdate': '2022-01-31T17:50:48-06:00', 'author': 'Weihua', 'moddate': '2022-01-31T17:50:48-06:00', 'title': 'Microsoft PowerPoint - m2-agents.ppt [Compatibility Mode]', 'source': 'data/preprocessed/intelligentagents.pdf', 'total_pages': 27, 'page': 2, 'page_label': '3'}, page_content='Agent and Env\\n•A n  agent is anything that can be viewed \\nas perceiving its environment through \\nsensors and acting upon that environment \\nthrough actuators.\\n• The agent function maps from percept \\nhistories to actions:\\nf: P* \\uf0e0 A'),\n",
       " Document(metadata={'producer': 'Acrobat Distiller 11.0 (Windows)', 'creator': 'PScript5.dll Version 5.2.2', 'creationdate': '2022-01-31T17:50:48-06:00', 'author': 'Weihua', 'moddate': '2022-01-31T17:50:48-06:00', 'title': 'Microsoft PowerPoint - m2-agents.ppt [Compatibility Mode]', 'source': 'data/preprocessed/intelligentagents.pdf', 'total_pages': 27, 'page': 3, 'page_label': '4'}, page_content='Agents\\n•A n  agent is anything that can be viewed \\nas perceiving its environment through \\nsensors and acting upon that environment \\nthrough actuators.\\nHuman agent: \\neyes, ears, and other organs for sensors.hands, legs, mouth, and other body parts for actuators.\\nRobotic agent: \\ncameras and infrared range finders for sensors.various motors for actuators.\\nSoftware agent:\\nkeyboard inputs, reading from files, network signals\\nScreen output, writing to files, network outputs'),\n",
       " Document(metadata={'producer': 'Acrobat Distiller 11.0 (Windows)', 'creator': 'PScript5.dll Version 5.2.2', 'creationdate': '2022-01-31T17:50:48-06:00', 'author': 'Weihua', 'moddate': '2022-01-31T17:50:48-06:00', 'title': 'Microsoft PowerPoint - m2-agents.ppt [Compatibility Mode]', 'source': 'data/preprocessed/intelligentagents.pdf', 'total_pages': 27, 'page': 4, 'page_label': '5'}, page_content='Vacuum-cleaner world'),\n",
       " Document(metadata={'producer': 'Acrobat Distiller 11.0 (Windows)', 'creator': 'PScript5.dll Version 5.2.2', 'creationdate': '2022-01-31T17:50:48-06:00', 'author': 'Weihua', 'moddate': '2022-01-31T17:50:48-06:00', 'title': 'Microsoft PowerPoint - m2-agents.ppt [Compatibility Mode]', 'source': 'data/preprocessed/intelligentagents.pdf', 'total_pages': 27, 'page': 5, 'page_label': '6'}, page_content='Vacuum-cleaner world\\n• Percepts: location and contents, e.g., [A,Dirty]\\n• Actions: Left, Right, Suck\\n• Function-table (table look-up agent)\\nPercept Action\\n[A, Clean]\\n[A, Dirty][B, Clean][B, Dirty]\\nRight\\nSuckLeftSuck•Huge table.\\n•Take a long time to build the \\ntable.\\n•No autonomy.•Even with learning, need a \\nlong time to learn the tableentries.'),\n",
       " Document(metadata={'producer': 'Acrobat Distiller 11.0 (Windows)', 'creator': 'PScript5.dll Version 5.2.2', 'creationdate': '2022-01-31T17:50:48-06:00', 'author': 'Weihua', 'moddate': '2022-01-31T17:50:48-06:00', 'title': 'Microsoft PowerPoint - m2-agents.ppt [Compatibility Mode]', 'source': 'data/preprocessed/intelligentagents.pdf', 'total_pages': 27, 'page': 6, 'page_label': '7'}, page_content='Rational agents\\n• An agent should strive to \"do the right \\nthing\", based on what it can perceive and \\nthe actions it can perform. The right action is the one that will cause the agent to be most successful.\\n• Performance measure: An objective \\ncriterion for success of an agent\\'s behavior.'),\n",
       " Document(metadata={'producer': 'Acrobat Distiller 11.0 (Windows)', 'creator': 'PScript5.dll Version 5.2.2', 'creationdate': '2022-01-31T17:50:48-06:00', 'author': 'Weihua', 'moddate': '2022-01-31T17:50:48-06:00', 'title': 'Microsoft PowerPoint - m2-agents.ppt [Compatibility Mode]', 'source': 'data/preprocessed/intelligentagents.pdf', 'total_pages': 27, 'page': 7, 'page_label': '8'}, page_content='Rational agents\\n• Rational Agent : For each possible percept \\nsequence, a rational agent should select an action that is expected to maximize its \\nperformance measure, given the evidence provided by the percept sequence and whatever built-in knowledge the agent has.\\n– The performance measure that defines the criterion of \\nsuccess.\\n– The agent’s prior knowledge of the environment.– The actions that the agent can perform.– The agent’s percept sequence to date.'),\n",
       " Document(metadata={'producer': 'Acrobat Distiller 11.0 (Windows)', 'creator': 'PScript5.dll Version 5.2.2', 'creationdate': '2022-01-31T17:50:48-06:00', 'author': 'Weihua', 'moddate': '2022-01-31T17:50:48-06:00', 'title': 'Microsoft PowerPoint - m2-agents.ppt [Compatibility Mode]', 'source': 'data/preprocessed/intelligentagents.pdf', 'total_pages': 27, 'page': 8, 'page_label': '9'}, page_content='Is a Vacuum-Cleaner Agent \\nRational?'),\n",
       " Document(metadata={'producer': 'Acrobat Distiller 11.0 (Windows)', 'creator': 'PScript5.dll Version 5.2.2', 'creationdate': '2022-01-31T17:50:48-06:00', 'author': 'Weihua', 'moddate': '2022-01-31T17:50:48-06:00', 'title': 'Microsoft PowerPoint - m2-agents.ppt [Compatibility Mode]', 'source': 'data/preprocessed/intelligentagents.pdf', 'total_pages': 27, 'page': 9, 'page_label': '10'}, page_content='Is a Vacuum-Cleaner Agent \\nRational?• Depends!\\n• Performance measure \\n– amount of dirt cleaned up,\\n– amount of time taken, – amount of electricity consumed, – amount of noise generated, etc..\\n•A  p r i o r i\\n– Geography of the environment is known (two squares, A is on left and B is on \\nright, etc.).\\n– Perception is trustable (no illusion).– Sucking cleans the current square (no dysfunctional).\\n• Actions\\n– Left, right, suck.\\n• Current percept\\n– [location, dirt]\\n• Possibilities\\n– Penalty to each movement.– The agent have memory (reasoning percept histories).– The geography of the environment is unknown.\\n– Clean square can become dirty.– The agent cannot percept its current location.– Agent can learn from experience.'),\n",
       " Document(metadata={'producer': 'Acrobat Distiller 11.0 (Windows)', 'creator': 'PScript5.dll Version 5.2.2', 'creationdate': '2022-01-31T17:50:48-06:00', 'author': 'Weihua', 'moddate': '2022-01-31T17:50:48-06:00', 'title': 'Microsoft PowerPoint - m2-agents.ppt [Compatibility Mode]', 'source': 'data/preprocessed/intelligentagents.pdf', 'total_pages': 27, 'page': 10, 'page_label': '11'}, page_content='Specify the setting for intelligent agent design:\\nPEAS Description\\n• PEAS: Performance measure, Environment, \\nActuators, Sensors\\n• Eg1. Automated taxi driver ( open-end research \\nof Intelligent Transportation Systems)\\n• Eg2. Medical diagnosis system• Eg3. Part-picking robot• Eg4. Interactive English tutor'),\n",
       " Document(metadata={'producer': 'Acrobat Distiller 11.0 (Windows)', 'creator': 'PScript5.dll Version 5.2.2', 'creationdate': '2022-01-31T17:50:48-06:00', 'author': 'Weihua', 'moddate': '2022-01-31T17:50:48-06:00', 'title': 'Microsoft PowerPoint - m2-agents.ppt [Compatibility Mode]', 'source': 'data/preprocessed/intelligentagents.pdf', 'total_pages': 27, 'page': 11, 'page_label': '12'}, page_content='Specify the setting for intelligent agent design:\\nPEAS Description\\n• PEAS: Performance measure, Environment, \\nActuators, Sensors\\n• Eg1. Automated taxi driver ( open-end research \\nof Intelligent Transportation Systems):\\n– Performance measure: Safe, fast, legal, comfortable \\ntrip, maximize profits.\\n– Environment: Roads, other traffic, pedestrians, \\ncustomers.\\n– Actuators: Steering wheel, accelerator, brake, signal, \\nhorn.\\n– Sensors: Cameras, sonar, speedometer, GPS, \\nodometer, engine sensors, keyboard.'),\n",
       " Document(metadata={'producer': 'Acrobat Distiller 11.0 (Windows)', 'creator': 'PScript5.dll Version 5.2.2', 'creationdate': '2022-01-31T17:50:48-06:00', 'author': 'Weihua', 'moddate': '2022-01-31T17:50:48-06:00', 'title': 'Microsoft PowerPoint - m2-agents.ppt [Compatibility Mode]', 'source': 'data/preprocessed/intelligentagents.pdf', 'total_pages': 27, 'page': 12, 'page_label': '13'}, page_content=\"PEAS\\n• Eg2. Medical diagnosis system\\n– Performance measure: Healthy patient, \\nminimize costs, lawsuits.\\n– Environment: Patient, hospital, staff– Actuators: Screen display (questions, tests, \\ndiagnoses, treatments, referrals).\\n– Sensors: Keyboard (entry of symptoms, \\nfindings, patient's answers).\"),\n",
       " Document(metadata={'producer': 'Acrobat Distiller 11.0 (Windows)', 'creator': 'PScript5.dll Version 5.2.2', 'creationdate': '2022-01-31T17:50:48-06:00', 'author': 'Weihua', 'moddate': '2022-01-31T17:50:48-06:00', 'title': 'Microsoft PowerPoint - m2-agents.ppt [Compatibility Mode]', 'source': 'data/preprocessed/intelligentagents.pdf', 'total_pages': 27, 'page': 13, 'page_label': '14'}, page_content='PEAS\\n• Eg3. Part-picking robot\\n– Performance measure: Percentage of parts in \\ncorrect bins.\\n– Environment: Conveyor belt with parts, bins.– Actuators: Jointed arm and hand.– Sensors: Camera, joint angle sensors.'),\n",
       " Document(metadata={'producer': 'Acrobat Distiller 11.0 (Windows)', 'creator': 'PScript5.dll Version 5.2.2', 'creationdate': '2022-01-31T17:50:48-06:00', 'author': 'Weihua', 'moddate': '2022-01-31T17:50:48-06:00', 'title': 'Microsoft PowerPoint - m2-agents.ppt [Compatibility Mode]', 'source': 'data/preprocessed/intelligentagents.pdf', 'total_pages': 27, 'page': 14, 'page_label': '15'}, page_content=\"PEAS\\n• Eg4. Interactive English tutor\\n– Performance measure: Maximize student's \\nscore on test.\\n– Environment: Set of students.– Actuators: Screen display (exercises, \\nsuggestions, corrections).\\n– Sensors: Keyboard.\"),\n",
       " Document(metadata={'producer': 'Acrobat Distiller 11.0 (Windows)', 'creator': 'PScript5.dll Version 5.2.2', 'creationdate': '2022-01-31T17:50:48-06:00', 'author': 'Weihua', 'moddate': '2022-01-31T17:50:48-06:00', 'title': 'Microsoft PowerPoint - m2-agents.ppt [Compatibility Mode]', 'source': 'data/preprocessed/intelligentagents.pdf', 'total_pages': 27, 'page': 15, 'page_label': '16'}, page_content='Environment types\\n• Fully observable (vs. partially observable): An agent can \\naccess the complete state of the environment at each point in time.\\n– Do not maintain the internal state to keep track of the world.\\n• Deterministic (vs. stochastic): The next state of the \\nenvironment is completely determined by the current state and the action executed by the agent. \\n– Do not worry about uncertainty.\\n• Episodic (vs. sequential): An agent’s action depends \\nonly on an “episode” (snapshot) of the environment, i.e. history independent.\\n– Do not think ahead.'),\n",
       " Document(metadata={'producer': 'Acrobat Distiller 11.0 (Windows)', 'creator': 'PScript5.dll Version 5.2.2', 'creationdate': '2022-01-31T17:50:48-06:00', 'author': 'Weihua', 'moddate': '2022-01-31T17:50:48-06:00', 'title': 'Microsoft PowerPoint - m2-agents.ppt [Compatibility Mode]', 'source': 'data/preprocessed/intelligentagents.pdf', 'total_pages': 27, 'page': 16, 'page_label': '17'}, page_content='Environment types\\n• Fully observable (vs. partially observable): An agent can \\naccess the complete state of the environment at each point in time.\\n– Playing chess? Fully.\\n– Medical diagnosis? Partially.– Taxi driving? Partially.– Do not maintain the internal state to keep track of the world.\\n• Deterministic (vs. stochastic): The next state of the \\nenvironment is completely determined by the current state and the action executed by the agent. \\n– Playing chess? Deterministic.\\n– Medical diagnosis? Stochastic.– Battle field? Stochastic.– E-shopping? Deterministic.– E-auction? Stochastic.– Do not worry about uncertainty.'),\n",
       " Document(metadata={'producer': 'Acrobat Distiller 11.0 (Windows)', 'creator': 'PScript5.dll Version 5.2.2', 'creationdate': '2022-01-31T17:50:48-06:00', 'author': 'Weihua', 'moddate': '2022-01-31T17:50:48-06:00', 'title': 'Microsoft PowerPoint - m2-agents.ppt [Compatibility Mode]', 'source': 'data/preprocessed/intelligentagents.pdf', 'total_pages': 27, 'page': 17, 'page_label': '18'}, page_content='Environment types\\n• Episodic (vs. sequential): An agent’s \\naction depends only on an “episode” (snapshot) of the environment, i.e. history independent.\\n– Medical diagnosis? Sequential.\\n– Web search? Episodic.– E-shopping? Episodic.– Do not think ahead.'),\n",
       " Document(metadata={'producer': 'Acrobat Distiller 11.0 (Windows)', 'creator': 'PScript5.dll Version 5.2.2', 'creationdate': '2022-01-31T17:50:48-06:00', 'author': 'Weihua', 'moddate': '2022-01-31T17:50:48-06:00', 'title': 'Microsoft PowerPoint - m2-agents.ppt [Compatibility Mode]', 'source': 'data/preprocessed/intelligentagents.pdf', 'total_pages': 27, 'page': 18, 'page_label': '19'}, page_content='Environment types\\n• Dynamic (vs. static): The environment changes \\nover time beyond the agent’s control. \\n– Do not keep looking at env when making decisions.\\n• Discrete (vs. continuous): A limited number of \\ndistinct, clearly defined percepts and actions.\\n• Single agent (vs. multi-agent): An agent \\noperating by itself in an environment.'),\n",
       " Document(metadata={'producer': 'Acrobat Distiller 11.0 (Windows)', 'creator': 'PScript5.dll Version 5.2.2', 'creationdate': '2022-01-31T17:50:48-06:00', 'author': 'Weihua', 'moddate': '2022-01-31T17:50:48-06:00', 'title': 'Microsoft PowerPoint - m2-agents.ppt [Compatibility Mode]', 'source': 'data/preprocessed/intelligentagents.pdf', 'total_pages': 27, 'page': 19, 'page_label': '20'}, page_content='Environment types\\n• Dynamic (vs. static): The environment changes \\nover time beyond the agent’s control. \\n– Playing crossword puzzle? Static.\\n– Expert systems? Static.– Playing chess? Semi-dynamic.– Playing soccer? Dynamic.– Battle field? Dynamic.– Do not keep looking at env when making decisions.\\n• Discrete (vs. continuous): A limited number of \\ndistinct, clearly defined percepts and actions.\\n– Playing chess? Discrete.\\n– Taxi driving? Continuous.'),\n",
       " Document(metadata={'producer': 'Acrobat Distiller 11.0 (Windows)', 'creator': 'PScript5.dll Version 5.2.2', 'creationdate': '2022-01-31T17:50:48-06:00', 'author': 'Weihua', 'moddate': '2022-01-31T17:50:48-06:00', 'title': 'Microsoft PowerPoint - m2-agents.ppt [Compatibility Mode]', 'source': 'data/preprocessed/intelligentagents.pdf', 'total_pages': 27, 'page': 20, 'page_label': '21'}, page_content='Environment types\\n• Single agent (vs. multi-agent): An agent \\noperating by itself in an environment.\\n– Crossword puzzle? Single\\n– Playing chess? Multi.– Taxi driving? Multi.\\n• Which is harder?\\n• The environment type largely determines the \\nagent design.\\n• The real world is partially observable, stochastic, \\nsequential, dynamic, continuous, multi-agent.'),\n",
       " Document(metadata={'producer': 'Acrobat Distiller 11.0 (Windows)', 'creator': 'PScript5.dll Version 5.2.2', 'creationdate': '2022-01-31T17:50:48-06:00', 'author': 'Weihua', 'moddate': '2022-01-31T17:50:48-06:00', 'title': 'Microsoft PowerPoint - m2-agents.ppt [Compatibility Mode]', 'source': 'data/preprocessed/intelligentagents.pdf', 'total_pages': 27, 'page': 21, 'page_label': '22'}, page_content='Agent Types\\n• Simple reflex agents\\n• Model-based reflex agents• Goal-based agents• Utility-based agentsGenerality'),\n",
       " Document(metadata={'producer': 'Acrobat Distiller 11.0 (Windows)', 'creator': 'PScript5.dll Version 5.2.2', 'creationdate': '2022-01-31T17:50:48-06:00', 'author': 'Weihua', 'moddate': '2022-01-31T17:50:48-06:00', 'title': 'Microsoft PowerPoint - m2-agents.ppt [Compatibility Mode]', 'source': 'data/preprocessed/intelligentagents.pdf', 'total_pages': 27, 'page': 22, 'page_label': '23'}, page_content='Simple reflex agents\\nUse condition-action rules to map the agent’s perceptions directly to action.\\nMaking decisions only with inputs.\\nENV\\nInference \\nEngine\\nReflex rules\\nPercepts\\nActions'),\n",
       " Document(metadata={'producer': 'Acrobat Distiller 11.0 (Windows)', 'creator': 'PScript5.dll Version 5.2.2', 'creationdate': '2022-01-31T17:50:48-06:00', 'author': 'Weihua', 'moddate': '2022-01-31T17:50:48-06:00', 'title': 'Microsoft PowerPoint - m2-agents.ppt [Compatibility Mode]', 'source': 'data/preprocessed/intelligentagents.pdf', 'total_pages': 27, 'page': 23, 'page_label': '24'}, page_content='Model-based reflex agents\\nENV\\nDecisionRules\\nPercepts\\nActions\\nUpdate \\nWorld \\nModel\\nWorld Model\\nHave an internal model (state) of the external environment.'),\n",
       " Document(metadata={'producer': 'Acrobat Distiller 11.0 (Windows)', 'creator': 'PScript5.dll Version 5.2.2', 'creationdate': '2022-01-31T17:50:48-06:00', 'author': 'Weihua', 'moddate': '2022-01-31T17:50:48-06:00', 'title': 'Microsoft PowerPoint - m2-agents.ppt [Compatibility Mode]', 'source': 'data/preprocessed/intelligentagents.pdf', 'total_pages': 27, 'page': 24, 'page_label': '25'}, page_content='Goal-based agents\\nENVTrigger/Prioritize\\nGoals/Tasks\\nGoals Tasks\\nPercepts\\nActions\\nUpdate \\nWorld \\nModel\\nWorld Model\\nProblem Solving Methods\\nSelect \\ngoals/tasks\\nSelect Methods/\\nActions'),\n",
       " Document(metadata={'producer': 'Acrobat Distiller 11.0 (Windows)', 'creator': 'PScript5.dll Version 5.2.2', 'creationdate': '2022-01-31T17:50:48-06:00', 'author': 'Weihua', 'moddate': '2022-01-31T17:50:48-06:00', 'title': 'Microsoft PowerPoint - m2-agents.ppt [Compatibility Mode]', 'source': 'data/preprocessed/intelligentagents.pdf', 'total_pages': 27, 'page': 25, 'page_label': '26'}, page_content='Utility-based agents\\nENVTrigger/Prioritize\\nGoals/Tasks\\nGoals Tasks\\nPercepts\\nActions\\nUpdate \\nWorld \\nModel\\nWorld Model\\nProblem Solving Methods\\nSelect \\ngoals/tasks\\nSelect Methods/\\nActions\\nUtility'),\n",
       " Document(metadata={'producer': 'Acrobat Distiller 11.0 (Windows)', 'creator': 'PScript5.dll Version 5.2.2', 'creationdate': '2022-01-31T17:50:48-06:00', 'author': 'Weihua', 'moddate': '2022-01-31T17:50:48-06:00', 'title': 'Microsoft PowerPoint - m2-agents.ppt [Compatibility Mode]', 'source': 'data/preprocessed/intelligentagents.pdf', 'total_pages': 27, 'page': 26, 'page_label': '27'}, page_content='Technologies of Software Agents\\n• Machine learning\\n• Information retrieval• Agent communication• Agent coordination• Agent negotiation• Natural language understanding• Distributed objects')]"
      ]
     },
     "execution_count": 19,
     "metadata": {},
     "output_type": "execute_result"
    }
   ],
   "source": [
    "from langchain_community.document_loaders import PyPDFLoader\n",
    "\n",
    "loader = PyPDFLoader(\"data/preprocessed/intelligentagents.pdf\")\n",
    "pages = loader.load_and_split()\n",
    "pages"
   ]
  },
  {
   "cell_type": "code",
   "execution_count": 34,
   "metadata": {},
   "outputs": [
    {
     "name": "stdout",
     "output_type": "stream",
     "text": [
      "Answer the question based on the context below. If you can't answer the question, reply \"I do not know\"\n",
      "\n",
      "Context: Here is some context\n",
      "\n",
      "Question: here is a question\n",
      "\n"
     ]
    }
   ],
   "source": [
    "from langchain.prompts import PromptTemplate\n",
    "\n",
    "template = \"\"\"Answer the question based on the context below. If you can't answer the question, reply \"I do not know\"\n",
    "\n",
    "Context: {context}\n",
    "\n",
    "Question: {question}\n",
    "\"\"\"\n",
    "\n",
    "prompt = PromptTemplate.from_template(template)\n",
    "print(prompt.format(context=\"Here is some context\", question=\"here is a question\") )"
   ]
  },
  {
   "cell_type": "code",
   "execution_count": 35,
   "metadata": {},
   "outputs": [],
   "source": [
    "chain = prompt | llm | parser "
   ]
  },
  {
   "cell_type": "code",
   "execution_count": 36,
   "metadata": {},
   "outputs": [
    {
     "data": {
      "text/plain": [
       "'Your name is Ant-Man.'"
      ]
     },
     "execution_count": 36,
     "metadata": {},
     "output_type": "execute_result"
    }
   ],
   "source": [
    "chain.invoke(\n",
    "    {\n",
    "        \"context\": \"The name I was given was Ant Man\",\n",
    "        \"question\": \"What is my name?\",\n",
    "    }\n",
    ")"
   ]
  },
  {
   "cell_type": "code",
   "execution_count": 37,
   "metadata": {},
   "outputs": [
    {
     "name": "stderr",
     "output_type": "stream",
     "text": [
      "/Users/aashishd/Desktop/llama-rag/.venv/lib/python3.9/site-packages/pydantic/_migration.py:283: UserWarning: `pydantic.error_wrappers:ValidationError` has been moved to `pydantic:ValidationError`.\n",
      "  warnings.warn(f'`{import_path}` has been moved to `{new_location}`.')\n"
     ]
    }
   ],
   "source": [
    "from langchain_community.vectorstores import DocArrayInMemorySearch\n",
    "\n",
    "vectorstore = DocArrayInMemorySearch.from_documents(\n",
    "    pages, \n",
    "    embedding=embeddings\n",
    ")"
   ]
  },
  {
   "cell_type": "code",
   "execution_count": 40,
   "metadata": {},
   "outputs": [
    {
     "data": {
      "text/plain": [
       "[Document(metadata={'producer': 'Acrobat Distiller 11.0 (Windows)', 'creator': 'PScript5.dll Version 5.2.2', 'creationdate': '2022-01-31T17:50:48-06:00', 'author': 'Weihua', 'moddate': '2022-01-31T17:50:48-06:00', 'title': 'Microsoft PowerPoint - m2-agents.ppt [Compatibility Mode]', 'source': 'data/preprocessed/intelligentagents.pdf', 'total_pages': 27, 'page': 0, 'page_label': '1'}, page_content='Intelligent Agents\\nChapter 2'),\n",
       " Document(metadata={'producer': 'Acrobat Distiller 11.0 (Windows)', 'creator': 'PScript5.dll Version 5.2.2', 'creationdate': '2022-01-31T17:50:48-06:00', 'author': 'Weihua', 'moddate': '2022-01-31T17:50:48-06:00', 'title': 'Microsoft PowerPoint - m2-agents.ppt [Compatibility Mode]', 'source': 'data/preprocessed/intelligentagents.pdf', 'total_pages': 27, 'page': 25, 'page_label': '26'}, page_content='Utility-based agents\\nENVTrigger/Prioritize\\nGoals/Tasks\\nGoals Tasks\\nPercepts\\nActions\\nUpdate \\nWorld \\nModel\\nWorld Model\\nProblem Solving Methods\\nSelect \\ngoals/tasks\\nSelect Methods/\\nActions\\nUtility'),\n",
       " Document(metadata={'producer': 'Acrobat Distiller 11.0 (Windows)', 'creator': 'PScript5.dll Version 5.2.2', 'creationdate': '2022-01-31T17:50:48-06:00', 'author': 'Weihua', 'moddate': '2022-01-31T17:50:48-06:00', 'title': 'Microsoft PowerPoint - m2-agents.ppt [Compatibility Mode]', 'source': 'data/preprocessed/intelligentagents.pdf', 'total_pages': 27, 'page': 21, 'page_label': '22'}, page_content='Agent Types\\n• Simple reflex agents\\n• Model-based reflex agents• Goal-based agents• Utility-based agentsGenerality'),\n",
       " Document(metadata={'producer': 'Acrobat Distiller 11.0 (Windows)', 'creator': 'PScript5.dll Version 5.2.2', 'creationdate': '2022-01-31T17:50:48-06:00', 'author': 'Weihua', 'moddate': '2022-01-31T17:50:48-06:00', 'title': 'Microsoft PowerPoint - m2-agents.ppt [Compatibility Mode]', 'source': 'data/preprocessed/intelligentagents.pdf', 'total_pages': 27, 'page': 8, 'page_label': '9'}, page_content='Is a Vacuum-Cleaner Agent \\nRational?')]"
      ]
     },
     "execution_count": 40,
     "metadata": {},
     "output_type": "execute_result"
    }
   ],
   "source": [
    "retriever = vectorstore.as_retriever()\n",
    "\n",
    "retriever.invoke(\"Rational Agent\")"
   ]
  },
  {
   "cell_type": "code",
   "execution_count": 47,
   "metadata": {},
   "outputs": [
    {
     "data": {
      "text/plain": [
       "\"PEAS stands for Performance measure, Environment, Actuators, Sensors. It's mentioned in the third document as one of the components of an intelligent agent, described in the outline on page 2.\""
      ]
     },
     "execution_count": 47,
     "metadata": {},
     "output_type": "execute_result"
    }
   ],
   "source": [
    "from operator import itemgetter \n",
    "\n",
    "chain = (\n",
    "    {\n",
    "        \"context\": itemgetter(\"question\") | retriever,\n",
    "        \"question\": itemgetter(\"question\")\n",
    "    }\n",
    "    | prompt\n",
    "    | llm\n",
    "    | parser\n",
    ")\n",
    "\n",
    "chain.invoke({\"question\": \"what is PEAS\"})"
   ]
  },
  {
   "cell_type": "code",
   "execution_count": 48,
   "metadata": {},
   "outputs": [
    {
     "name": "stdout",
     "output_type": "stream",
     "text": [
      "PEAS stands for:\n",
      "\n",
      "• E (Environment): A description of the external world that the agent interacts with.\n",
      "• A (Actuators): The agents capabilities to interact with its environment by performing actions. \n",
      "• S (Sensors): The information the agent receives from its sensors about its environment and itself.\n",
      "• P (Performance Measure): The criteria for measuring how well or poorly an intelligent agent is doing.\n",
      "\n",
      "This is explained in more detail on page 14 of the document, as mentioned in the context provided."
     ]
    }
   ],
   "source": [
    "for s in chain.stream({\"question\": \"What is PEAS?\"}):\n",
    "    print(s, end=\"\", flush=True)"
   ]
  },
  {
   "cell_type": "code",
   "execution_count": null,
   "metadata": {},
   "outputs": [],
   "source": [
    "#next steps:\n",
    "\n",
    "'''\n",
    "all the ai pdfs\n",
    "using docling for pdf handling \n",
    "scale it up\n",
    "make the overview pdf \n",
    "start the second project\n",
    "'''"
   ]
  }
 ],
 "metadata": {
  "kernelspec": {
   "display_name": ".venv",
   "language": "python",
   "name": "python3"
  },
  "language_info": {
   "codemirror_mode": {
    "name": "ipython",
    "version": 3
   },
   "file_extension": ".py",
   "mimetype": "text/x-python",
   "name": "python",
   "nbconvert_exporter": "python",
   "pygments_lexer": "ipython3",
   "version": "3.9.6"
  }
 },
 "nbformat": 4,
 "nbformat_minor": 2
}
